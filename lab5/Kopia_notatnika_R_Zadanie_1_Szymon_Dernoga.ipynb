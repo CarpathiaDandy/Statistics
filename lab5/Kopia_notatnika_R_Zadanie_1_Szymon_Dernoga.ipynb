{
  "nbformat": 4,
  "nbformat_minor": 0,
  "metadata": {
    "colab": {
      "provenance": []
    },
    "kernelspec": {
      "name": "ir",
      "display_name": "R"
    },
    "language_info": {
      "name": "R"
    }
  },
  "cells": [
    {
      "cell_type": "markdown",
      "metadata": {
        "id": "uiTeLffHNoSA"
      },
      "source": [
        "#Zadanie 1"
      ]
    },
    {
      "cell_type": "markdown",
      "source": [
        "##Utwórz kopię pliku na swoim dysku google. Zmień nazwę na R_Zadanie_1_imię_nazwisko.jpynb"
      ],
      "metadata": {
        "id": "ZukjDlYsI2jp"
      }
    },
    {
      "cell_type": "markdown",
      "metadata": {
        "id": "pfrBly4cax1u"
      },
      "source": [
        "Analiza dotyczy zbioru danych, który zawiera informacje na temat batonów czekoladowych.\\\n",
        "Zmiennne:\n",
        "* nazwa firmy produkującej batony czekoladowe\n",
        "* pochodzenie ziaren kakaowych lub nazwa batonu\n",
        "* numer referencyjny\n",
        "* rok przeglądu\n",
        "* procentowa zawartość kako w czekoladzie\n",
        "* lokalizacja firmy produkującej czekoladę\n",
        "* ocena batonu czekoladowego\n",
        "* pochodzenie ziaren kakaowca\n",
        "\n",
        "System oceny smaków kakao:\\\n",
        "5= Elita (Przekraczanie poza zwykłe granice)\\\n",
        "4= Premium (Doskonały rozwój smaku, charakteru i stylu)\\\n",
        "3 = zadowalający (3,0) do godnego pochwały (3,75) (dobrze wykonany, o specjalnych właściwościach)\\\n",
        "2= Rozczarowujący (Zadowalający, ale zawiera co najmniej jedną istotną wadę)\\\n",
        "1= Nieprzyjemny (przeważnie niesmaczny)\\\n",
        "REF – wartość powiązana z datą wprowadzenia recenzji do bazy danych. Wyższy = nowszy."
      ]
    },
    {
      "cell_type": "markdown",
      "source": [
        "##Wczytaj zbiór danych znajdujący sie pod adresem:\n",
        "https://raw.githubusercontent.com/clauswilke/dviz.supp/master/data-raw/cacao/flavors_of_cacao.csv"
      ],
      "metadata": {
        "id": "QMIMVuuJlhLZ"
      }
    },
    {
      "cell_type": "code",
      "source": [
        "# z url\n",
        "url = \"https://raw.githubusercontent.com/clauswilke/dviz.supp/master/data-raw/cacao/flavors_of_cacao.csv\"\n",
        "df2 = read.csv(url)\n",
        "head(df2,6)"
      ],
      "metadata": {
        "id": "fFKXjBSzlte2",
        "colab": {
          "base_uri": "https://localhost:8080/",
          "height": 286
        },
        "outputId": "e358343d-2bb7-42c3-ad29-b2b00fa51ab2"
      },
      "execution_count": 1,
      "outputs": [
        {
          "output_type": "display_data",
          "data": {
            "text/html": [
              "<table class=\"dataframe\">\n",
              "<caption>A data.frame: 6 × 9</caption>\n",
              "<thead>\n",
              "\t<tr><th></th><th scope=col>Company...Maker.if.known.</th><th scope=col>Specific.Bean.Origin.or.Bar.Name</th><th scope=col>REF</th><th scope=col>Review.Date</th><th scope=col>Cocoa.Percent</th><th scope=col>Company.Location</th><th scope=col>Rating</th><th scope=col>Bean.Type</th><th scope=col>Broad.Bean.Origin</th></tr>\n",
              "\t<tr><th></th><th scope=col>&lt;chr&gt;</th><th scope=col>&lt;chr&gt;</th><th scope=col>&lt;int&gt;</th><th scope=col>&lt;int&gt;</th><th scope=col>&lt;chr&gt;</th><th scope=col>&lt;chr&gt;</th><th scope=col>&lt;dbl&gt;</th><th scope=col>&lt;chr&gt;</th><th scope=col>&lt;chr&gt;</th></tr>\n",
              "</thead>\n",
              "<tbody>\n",
              "\t<tr><th scope=row>1</th><td>A. Morin</td><td>Agua Grande</td><td>1876</td><td>2016</td><td>63%</td><td>France</td><td>3.75</td><td>       </td><td>Sao Tome </td></tr>\n",
              "\t<tr><th scope=row>2</th><td>A. Morin</td><td>Kpime      </td><td>1676</td><td>2015</td><td>70%</td><td>France</td><td>2.75</td><td>       </td><td>Togo     </td></tr>\n",
              "\t<tr><th scope=row>3</th><td>A. Morin</td><td>Atsane     </td><td>1676</td><td>2015</td><td>70%</td><td>France</td><td>3.00</td><td>       </td><td>Togo     </td></tr>\n",
              "\t<tr><th scope=row>4</th><td>A. Morin</td><td>Akata      </td><td>1680</td><td>2015</td><td>70%</td><td>France</td><td>3.50</td><td>       </td><td>Togo     </td></tr>\n",
              "\t<tr><th scope=row>5</th><td>A. Morin</td><td>Quilla     </td><td>1704</td><td>2015</td><td>70%</td><td>France</td><td>3.50</td><td>       </td><td>Peru     </td></tr>\n",
              "\t<tr><th scope=row>6</th><td>A. Morin</td><td>Carenero   </td><td>1315</td><td>2014</td><td>70%</td><td>France</td><td>2.75</td><td>Criollo</td><td>Venezuela</td></tr>\n",
              "</tbody>\n",
              "</table>\n"
            ],
            "text/markdown": "\nA data.frame: 6 × 9\n\n| <!--/--> | Company...Maker.if.known. &lt;chr&gt; | Specific.Bean.Origin.or.Bar.Name &lt;chr&gt; | REF &lt;int&gt; | Review.Date &lt;int&gt; | Cocoa.Percent &lt;chr&gt; | Company.Location &lt;chr&gt; | Rating &lt;dbl&gt; | Bean.Type &lt;chr&gt; | Broad.Bean.Origin &lt;chr&gt; |\n|---|---|---|---|---|---|---|---|---|---|\n| 1 | A. Morin | Agua Grande | 1876 | 2016 | 63% | France | 3.75 |         | Sao Tome  |\n| 2 | A. Morin | Kpime       | 1676 | 2015 | 70% | France | 2.75 |         | Togo      |\n| 3 | A. Morin | Atsane      | 1676 | 2015 | 70% | France | 3.00 |         | Togo      |\n| 4 | A. Morin | Akata       | 1680 | 2015 | 70% | France | 3.50 |         | Togo      |\n| 5 | A. Morin | Quilla      | 1704 | 2015 | 70% | France | 3.50 |         | Peru      |\n| 6 | A. Morin | Carenero    | 1315 | 2014 | 70% | France | 2.75 | Criollo | Venezuela |\n\n",
            "text/latex": "A data.frame: 6 × 9\n\\begin{tabular}{r|lllllllll}\n  & Company...Maker.if.known. & Specific.Bean.Origin.or.Bar.Name & REF & Review.Date & Cocoa.Percent & Company.Location & Rating & Bean.Type & Broad.Bean.Origin\\\\\n  & <chr> & <chr> & <int> & <int> & <chr> & <chr> & <dbl> & <chr> & <chr>\\\\\n\\hline\n\t1 & A. Morin & Agua Grande & 1876 & 2016 & 63\\% & France & 3.75 &         & Sao Tome \\\\\n\t2 & A. Morin & Kpime       & 1676 & 2015 & 70\\% & France & 2.75 &         & Togo     \\\\\n\t3 & A. Morin & Atsane      & 1676 & 2015 & 70\\% & France & 3.00 &         & Togo     \\\\\n\t4 & A. Morin & Akata       & 1680 & 2015 & 70\\% & France & 3.50 &         & Togo     \\\\\n\t5 & A. Morin & Quilla      & 1704 & 2015 & 70\\% & France & 3.50 &         & Peru     \\\\\n\t6 & A. Morin & Carenero    & 1315 & 2014 & 70\\% & France & 2.75 & Criollo & Venezuela\\\\\n\\end{tabular}\n",
            "text/plain": [
              "  Company...Maker.if.known. Specific.Bean.Origin.or.Bar.Name REF  Review.Date\n",
              "1 A. Morin                  Agua Grande                      1876 2016       \n",
              "2 A. Morin                  Kpime                            1676 2015       \n",
              "3 A. Morin                  Atsane                           1676 2015       \n",
              "4 A. Morin                  Akata                            1680 2015       \n",
              "5 A. Morin                  Quilla                           1704 2015       \n",
              "6 A. Morin                  Carenero                         1315 2014       \n",
              "  Cocoa.Percent Company.Location Rating Bean.Type Broad.Bean.Origin\n",
              "1 63%           France           3.75             Sao Tome         \n",
              "2 70%           France           2.75             Togo             \n",
              "3 70%           France           3.00             Togo             \n",
              "4 70%           France           3.50             Togo             \n",
              "5 70%           France           3.50             Peru             \n",
              "6 70%           France           2.75   Criollo   Venezuela        "
            ]
          },
          "metadata": {}
        }
      ]
    },
    {
      "cell_type": "markdown",
      "source": [
        "## Zaimportuj pakiet Tidiverse"
      ],
      "metadata": {
        "id": "kaUnrW215Dy8"
      }
    },
    {
      "cell_type": "code",
      "source": [
        "library(tidyverse)"
      ],
      "metadata": {
        "id": "ltOeuaWE5G69",
        "colab": {
          "base_uri": "https://localhost:8080/"
        },
        "outputId": "dd06b5a8-15ac-4ae7-8e5f-6b2ca2a24ce8"
      },
      "execution_count": 2,
      "outputs": [
        {
          "output_type": "stream",
          "name": "stderr",
          "text": [
            "── \u001b[1mAttaching core tidyverse packages\u001b[22m ──────────────────────── tidyverse 2.0.0 ──\n",
            "\u001b[32m✔\u001b[39m \u001b[34mdplyr    \u001b[39m 1.1.4     \u001b[32m✔\u001b[39m \u001b[34mreadr    \u001b[39m 2.1.5\n",
            "\u001b[32m✔\u001b[39m \u001b[34mforcats  \u001b[39m 1.0.0     \u001b[32m✔\u001b[39m \u001b[34mstringr  \u001b[39m 1.5.1\n",
            "\u001b[32m✔\u001b[39m \u001b[34mggplot2  \u001b[39m 3.4.4     \u001b[32m✔\u001b[39m \u001b[34mtibble   \u001b[39m 3.2.1\n",
            "\u001b[32m✔\u001b[39m \u001b[34mlubridate\u001b[39m 1.9.3     \u001b[32m✔\u001b[39m \u001b[34mtidyr    \u001b[39m 1.3.1\n",
            "\u001b[32m✔\u001b[39m \u001b[34mpurrr    \u001b[39m 1.0.2     \n",
            "── \u001b[1mConflicts\u001b[22m ────────────────────────────────────────── tidyverse_conflicts() ──\n",
            "\u001b[31m✖\u001b[39m \u001b[34mdplyr\u001b[39m::\u001b[32mfilter()\u001b[39m masks \u001b[34mstats\u001b[39m::filter()\n",
            "\u001b[31m✖\u001b[39m \u001b[34mdplyr\u001b[39m::\u001b[32mlag()\u001b[39m    masks \u001b[34mstats\u001b[39m::lag()\n",
            "\u001b[36mℹ\u001b[39m Use the conflicted package (\u001b[3m\u001b[34m<http://conflicted.r-lib.org/>\u001b[39m\u001b[23m) to force all conflicts to become errors\n"
          ]
        }
      ]
    },
    {
      "cell_type": "markdown",
      "metadata": {
        "id": "mnyTdf7Jq-jF"
      },
      "source": [
        "## Przygotowanie danych"
      ]
    },
    {
      "cell_type": "markdown",
      "source": [
        "Wczytaj dane zmieniając nazwy kolumn na:\\\n",
        "'Company', 'Specific_Bean_Origin_or_Bar_Name', 'REF','Review_Date', 'Cocoa_Percentage', 'Company_Location','Rating', 'Bean_Type', 'Broad_Bean_Origin'"
      ],
      "metadata": {
        "id": "7IgJWBLn15eX"
      }
    },
    {
      "cell_type": "code",
      "source": [
        "names(df2) = c('Company', 'Specific_Bean_Origin_or_Bar_Name', 'REF','Review_Date', 'Cocoa_Percentage', 'Company_Location','Rating', 'Bean_Type', 'Broad_Bean_Origin')"
      ],
      "metadata": {
        "id": "wY8zYpgRmRtA"
      },
      "execution_count": 3,
      "outputs": []
    },
    {
      "cell_type": "markdown",
      "source": [
        "Wyświtl \"kształt\" zbioru - liczba wierszy i kolumn"
      ],
      "metadata": {
        "id": "RN_ApCUO2Mqb"
      }
    },
    {
      "cell_type": "code",
      "source": [
        "cat(\"Liczba kolumn: \", ncol(df2), \"\\n\")\n",
        "cat(\"Liczba wierszy: \", nrow(df2), \"\\n\")"
      ],
      "metadata": {
        "id": "A25_wHDY2S0_",
        "colab": {
          "base_uri": "https://localhost:8080/"
        },
        "outputId": "23143fae-a99b-4b08-f311-0c9bff388992"
      },
      "execution_count": 4,
      "outputs": [
        {
          "output_type": "stream",
          "name": "stdout",
          "text": [
            "Liczba kolumn:  9 \n",
            "Liczba wierszy:  1795 \n"
          ]
        }
      ]
    },
    {
      "cell_type": "markdown",
      "source": [
        "Wyświetl strukturę zbioru danych (nazwy zmiennych\n",
        ", typ danych, ...)"
      ],
      "metadata": {
        "id": "TiFgtOg51-MS"
      }
    },
    {
      "cell_type": "code",
      "source": [
        "str(df2)"
      ],
      "metadata": {
        "id": "57ecawuCmRah",
        "colab": {
          "base_uri": "https://localhost:8080/"
        },
        "outputId": "e84a7fdf-7127-49d6-ca78-bbd8f0c71f0c"
      },
      "execution_count": 5,
      "outputs": [
        {
          "output_type": "stream",
          "name": "stdout",
          "text": [
            "'data.frame':\t1795 obs. of  9 variables:\n",
            " $ Company                         : chr  \"A. Morin\" \"A. Morin\" \"A. Morin\" \"A. Morin\" ...\n",
            " $ Specific_Bean_Origin_or_Bar_Name: chr  \"Agua Grande\" \"Kpime\" \"Atsane\" \"Akata\" ...\n",
            " $ REF                             : int  1876 1676 1676 1680 1704 1315 1315 1315 1319 1319 ...\n",
            " $ Review_Date                     : int  2016 2015 2015 2015 2015 2014 2014 2014 2014 2014 ...\n",
            " $ Cocoa_Percentage                : chr  \"63%\" \"70%\" \"70%\" \"70%\" ...\n",
            " $ Company_Location                : chr  \"France\" \"France\" \"France\" \"France\" ...\n",
            " $ Rating                          : num  3.75 2.75 3 3.5 3.5 2.75 3.5 3.5 3.75 4 ...\n",
            " $ Bean_Type                       : chr  \" \" \" \" \" \" \" \" ...\n",
            " $ Broad_Bean_Origin               : chr  \"Sao Tome\" \"Togo\" \"Togo\" \"Togo\" ...\n"
          ]
        }
      ]
    },
    {
      "cell_type": "markdown",
      "source": [
        "Usuń znak \"%\" w zmiennej procent Cocoa_Percentage - ustaw odpowiednio typ danej\n"
      ],
      "metadata": {
        "id": "Lq5YSs8T2XWU"
      }
    },
    {
      "cell_type": "code",
      "source": [
        "df2$Cocoa_Percentage <- as.integer(gsub(\"%\", \"\", df2$Cocoa_Percentage))\n",
        "head(df2$Cocoa_Percentage,6)"
      ],
      "metadata": {
        "id": "PSHMbqBN2lmH",
        "colab": {
          "base_uri": "https://localhost:8080/",
          "height": 34
        },
        "outputId": "da1d6991-2123-458b-bbb6-0051b9ba90d3"
      },
      "execution_count": 6,
      "outputs": [
        {
          "output_type": "display_data",
          "data": {
            "text/html": [
              "<style>\n",
              ".list-inline {list-style: none; margin:0; padding: 0}\n",
              ".list-inline>li {display: inline-block}\n",
              ".list-inline>li:not(:last-child)::after {content: \"\\00b7\"; padding: 0 .5ex}\n",
              "</style>\n",
              "<ol class=list-inline><li>63</li><li>70</li><li>70</li><li>70</li><li>70</li><li>70</li></ol>\n"
            ],
            "text/markdown": "1. 63\n2. 70\n3. 70\n4. 70\n5. 70\n6. 70\n\n\n",
            "text/latex": "\\begin{enumerate*}\n\\item 63\n\\item 70\n\\item 70\n\\item 70\n\\item 70\n\\item 70\n\\end{enumerate*}\n",
            "text/plain": [
              "[1] 63 70 70 70 70 70"
            ]
          },
          "metadata": {}
        }
      ]
    },
    {
      "cell_type": "markdown",
      "source": [
        "Sprawdź ile jest braków w zbiorze danych"
      ],
      "metadata": {
        "id": "IzM8nSuu2umj"
      }
    },
    {
      "cell_type": "code",
      "source": [
        "# Znajdowanie braków danych w każdej kolumnie\n",
        "missing_values <- sum(sapply(df2, function(x) {\n",
        "  if (is.character(x)) {\n",
        "    sum(is.na(x) | x == \"\" | !grepl(\"[a-zA-Z]\", x))\n",
        "  } else {\n",
        "    sum(is.na(x) | x == \"\")\n",
        "  }\n",
        "}))\n",
        "\n",
        "# Wyświetlenie liczby braków danych dla każdej kolumny\n",
        "print(missing_values)"
      ],
      "metadata": {
        "id": "OqDo-TD921Pw",
        "colab": {
          "base_uri": "https://localhost:8080/"
        },
        "outputId": "0c1a3790-4799-4c78-e7a8-c62026fc0c46"
      },
      "execution_count": 26,
      "outputs": [
        {
          "output_type": "stream",
          "name": "stdout",
          "text": [
            "[1] 962\n"
          ]
        }
      ]
    },
    {
      "cell_type": "markdown",
      "source": [
        "Wyświetl nazwy kolumn, w których występują braki"
      ],
      "metadata": {
        "id": "SYvYqZeq4pr_"
      }
    },
    {
      "cell_type": "code",
      "source": [
        "# Znajdowanie braków danych w każdej kolumnie\n",
        "missing_values <- sapply(df2, function(x) {\n",
        "  if (is.character(x)) {\n",
        "    sum(is.na(x) | x == \"\" | !grepl(\"[a-zA-Z]\", x))\n",
        "  } else {\n",
        "    sum(is.na(x) | x == \"\")\n",
        "  }\n",
        "})\n",
        "\n",
        "# Wyświetlenie liczby braków danych dla każdej kolumny\n",
        "print(missing_values[missing_values>0])"
      ],
      "metadata": {
        "id": "s5uZTtPp4usP",
        "colab": {
          "base_uri": "https://localhost:8080/"
        },
        "outputId": "613616da-b702-4d3a-f2ae-5c39fb775ee6"
      },
      "execution_count": 28,
      "outputs": [
        {
          "output_type": "stream",
          "name": "stdout",
          "text": [
            "        Bean_Type Broad_Bean_Origin \n",
            "              888                74 \n"
          ]
        }
      ]
    },
    {
      "cell_type": "markdown",
      "source": [
        "Usun cały wiersz, dla którego zmienna Broad_Bean_Origin zawiera brakujące dane"
      ],
      "metadata": {
        "id": "ga5zTJ7521zb"
      }
    },
    {
      "cell_type": "code",
      "source": [
        "df2 <- df2[!is.na(df2$Broad_Bean_Origin) & df2$Broad_Bean_Origin != \"\" & grepl(\"[a-zA-Z]\", df2$Broad_Bean_Origin), ]\n",
        "\n"
      ],
      "metadata": {
        "id": "hhc9CJJ141k8"
      },
      "execution_count": 30,
      "outputs": []
    },
    {
      "cell_type": "markdown",
      "source": [
        "Wykonaj tabelę liczności dla zmiennej Bean_Type"
      ],
      "metadata": {
        "id": "XMkEUsJ3FDVR"
      }
    },
    {
      "cell_type": "code",
      "source": [
        "bean_type_table <- table(df2$Bean_Type)\n",
        "print(bean_type_table)"
      ],
      "metadata": {
        "id": "Or3y4IP0FIqj",
        "colab": {
          "base_uri": "https://localhost:8080/"
        },
        "outputId": "87728379-c788-4954-e7bf-718bc2968d51"
      },
      "execution_count": 33,
      "outputs": [
        {
          "output_type": "stream",
          "name": "stdout",
          "text": [
            "\n",
            "                  Amazon               Amazon mix              Amazon, ICS \n",
            "                       1                        2                        2 \n",
            "                 Beniano                    Blend  Blend-Forastero,Criollo \n",
            "                       3                       21                        1 \n",
            "                   CCN51                  Criollo         Criollo (Amarru) \n",
            "                       1                      152                        2 \n",
            "    Criollo (Ocumare 61)     Criollo (Ocumare 67)     Criollo (Ocumare 77) \n",
            "                       2                        1                        1 \n",
            "       Criollo (Ocumare)      Criollo (Porcelana)           Criollo (Wild) \n",
            "                       1                       10                        1 \n",
            "              Criollo, +       Criollo, Forastero      Criollo, Trinitario \n",
            "                       1                        2                       39 \n",
            "                     EET                Forastero    Forastero (Amelonado) \n",
            "                       3                       87                        1 \n",
            "      Forastero (Arriba)   Forastero (Arriba) ASS  Forastero (Arriba) ASSS \n",
            "                      37                        6                        1 \n",
            "     Forastero (Catongo)     Forastero (Nacional)    Forastero (Parazinho) \n",
            "                       2                       52                        8 \n",
            "   Forastero, Trinitario   Forastero(Arriba, CCN)                   Matina \n",
            "                       1                        1                        3 \n",
            "                Nacional        Nacional (Arriba)               Trinitario \n",
            "                       2                        3                      417 \n",
            "Trinitario (85% Criollo)   Trinitario (Amelonado)     Trinitario (Scavina) \n",
            "                       2                        1                        1 \n",
            "     Trinitario, Criollo    Trinitario, Forastero     Trinitario, Nacional \n",
            "                       9                        2                        1 \n",
            "        Trinitario, TCGA \n",
            "                       1 \n"
          ]
        }
      ]
    },
    {
      "cell_type": "markdown",
      "source": [
        "Spróbuj wyfiltrowac \"puste\" komórki dla zmiennej Bean_Type i zamienić je na NA\n"
      ],
      "metadata": {
        "id": "tfatqn6V4uSm"
      }
    },
    {
      "cell_type": "code",
      "source": [
        "# df2$Bean_Type[is.na(df2$Bean_Type) | df2$Bean_Type == \"\" | !grepl(\"[a-zA-Z]\", df2$Bean_Type)] <- NA\n",
        "\n",
        "# bean_type_table <- table(df2$Bean_Type)\n",
        "# print(bean_type_table)\n",
        "\n",
        "sum(is.na(df2$Bean_Type))"
      ],
      "metadata": {
        "id": "V2hFXpj5COtt",
        "colab": {
          "base_uri": "https://localhost:8080/",
          "height": 34
        },
        "outputId": "2002559d-c4a6-4224-c09f-159e335ef329"
      },
      "execution_count": 38,
      "outputs": [
        {
          "output_type": "display_data",
          "data": {
            "text/html": [
              "837"
            ],
            "text/markdown": "837",
            "text/latex": "837",
            "text/plain": [
              "[1] 837"
            ]
          },
          "metadata": {}
        }
      ]
    },
    {
      "cell_type": "markdown",
      "source": [
        "Usuń kolumnę Bean_Type"
      ],
      "metadata": {
        "id": "GnZ0EyYdmSE6"
      }
    },
    {
      "cell_type": "code",
      "source": [
        "df2$Bean_Type <- NULL\n",
        "head(df2,3)"
      ],
      "metadata": {
        "id": "ZOWZgglYCZ-M"
      },
      "execution_count": null,
      "outputs": []
    },
    {
      "cell_type": "markdown",
      "source": [
        "Dodaj do ramki danych nową kolumnę, która będzie zawierała informajce czy dana czekolada jest gorzka czy nie? W tym celu wykorzystaj zmienną Cocoa_Percentage."
      ],
      "metadata": {
        "id": "4nk6NV--CbAG"
      }
    },
    {
      "cell_type": "code",
      "source": [
        "df2$Chocolate_Type <- ifelse(df2$Cocoa_Percentage <= 50, \"Mleczna\",\n",
        "                              ifelse(df2$Cocoa_Percentage <= 70, \"Deserowa\", \"Gorzka\"))\n",
        "head(df2,3)"
      ],
      "metadata": {
        "id": "S4yAXhvqFaUg"
      },
      "execution_count": null,
      "outputs": []
    },
    {
      "cell_type": "markdown",
      "source": [
        "## Zapisywanie plików"
      ],
      "metadata": {
        "id": "PV-xtco3J4JG"
      }
    },
    {
      "cell_type": "markdown",
      "source": [
        "Wyczyszczoną ramkę danych zapisz do pliku csv o nazw new_cocoa_imie_nazwisko.csv. Pobierz plik na dysk i dołącz do zadania na upel razem z plikiem zaiwerającym wszystkie przeprowadzone analizy (R_Zadanie_1_imię_nazwisko.jpynb)"
      ],
      "metadata": {
        "id": "OHMjXpsqIP3j"
      }
    },
    {
      "cell_type": "code",
      "source": [
        "write.csv(df2, file = \"new_cocoa_Szymon_Dernoga.csv\", row.names = FALSE)"
      ],
      "metadata": {
        "id": "BdaaQ-62F2Fx"
      },
      "execution_count": null,
      "outputs": []
    }
  ]
}